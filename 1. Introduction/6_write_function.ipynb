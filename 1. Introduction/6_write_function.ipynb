{
 "cells": [
  {
   "cell_type": "code",
   "execution_count": null,
   "id": "11054194",
   "metadata": {},
   "outputs": [],
   "source": [
    "def is_leap(year):\n",
    "    if year >= 1900 and year <= 10**5 and year%400 ==0 and year%100 == 0:\n",
    "        return True\n",
    "    elif year >= 1900 and year <= 10**5 and year%100 ==0 and year%4 == 0:\n",
    "        return False\n",
    "    elif year >= 1900 and year <= 10**5 and year%4 == 0 and year%100 != 0:\n",
    "        return True\n",
    "    else:\n",
    "        return False"
   ]
  }
 ],
 "metadata": {
  "kernelspec": {
   "display_name": "Python 3 (ipykernel)",
   "language": "python",
   "name": "python3"
  },
  "language_info": {
   "codemirror_mode": {
    "name": "ipython",
    "version": 3
   },
   "file_extension": ".py",
   "mimetype": "text/x-python",
   "name": "python",
   "nbconvert_exporter": "python",
   "pygments_lexer": "ipython3",
   "version": "3.8.8"
  }
 },
 "nbformat": 4,
 "nbformat_minor": 5
}
