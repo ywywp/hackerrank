{
 "cells": [
  {
   "cell_type": "code",
   "execution_count": null,
   "id": "382bf873",
   "metadata": {},
   "outputs": [],
   "source": [
    "arr = list(dict.fromkeys(arr))\n",
    "print(sorted(arr)[-2])\n",
    "\n",
    "# return 2nd last item unique from the list\n",
    "# making a list into dictionary removes all duplicated values"
   ]
  }
 ],
 "metadata": {
  "kernelspec": {
   "display_name": "Python 3 (ipykernel)",
   "language": "python",
   "name": "python3"
  },
  "language_info": {
   "codemirror_mode": {
    "name": "ipython",
    "version": 3
   },
   "file_extension": ".py",
   "mimetype": "text/x-python",
   "name": "python",
   "nbconvert_exporter": "python",
   "pygments_lexer": "ipython3",
   "version": "3.8.8"
  }
 },
 "nbformat": 4,
 "nbformat_minor": 5
}
