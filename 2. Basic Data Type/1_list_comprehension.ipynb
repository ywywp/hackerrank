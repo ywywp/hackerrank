{
 "cells": [
  {
   "cell_type": "code",
   "execution_count": null,
   "id": "153837e1",
   "metadata": {},
   "outputs": [],
   "source": [
    "x, y, z, n = (int(input()) for _ in range(4))\n",
    "\n",
    "print([[a,b,c] for a in range(0,x+1) for b in range(0,y+1) for c in range(0,z+1) if a + b + c != n ])\n",
    "\n",
    "# print each variable a,b into a list within given range"
   ]
  },
  {
   "cell_type": "code",
   "execution_count": null,
   "id": "907eefd7",
   "metadata": {},
   "outputs": [],
   "source": []
  }
 ],
 "metadata": {
  "kernelspec": {
   "display_name": "Python 3 (ipykernel)",
   "language": "python",
   "name": "python3"
  },
  "language_info": {
   "codemirror_mode": {
    "name": "ipython",
    "version": 3
   },
   "file_extension": ".py",
   "mimetype": "text/x-python",
   "name": "python",
   "nbconvert_exporter": "python",
   "pygments_lexer": "ipython3",
   "version": "3.8.8"
  }
 },
 "nbformat": 4,
 "nbformat_minor": 5
}
